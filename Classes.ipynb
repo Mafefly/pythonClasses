{
 "metadata": {
  "name": "",
  "signature": "sha256:2b59af54bb046931299055bccbc6b39e4555a75ae58a6ab3544ea4d998cc02d5"
 },
 "nbformat": 3,
 "nbformat_minor": 0,
 "worksheets": [
  {
   "cells": [
    {
     "cell_type": "markdown",
     "metadata": {},
     "source": [
      "OOP\n",
      "\n",
      "Object: An instance of a class that contains in isolated way its own methods and attributes with values.\n",
      "\n",
      "Attributes: Properties, variables related to the object. e.g. Object John has property *name* with a value *John*\n",
      "\n",
      "Methods: Functions that belong to the object. e.g. nameLenght\n",
      "\n",
      "Class: The definition of the structure of a object\n",
      "\n",
      "\n"
     ]
    },
    {
     "cell_type": "code",
     "collapsed": false,
     "input": [
      "#An empty class\n",
      "\n",
      "class Person:\n",
      "    pass\n",
      "\n",
      "delfi  =  Person()\n",
      "alejo = Person()\n",
      "\n",
      "\n",
      "print delfi\n",
      "print alejo \n",
      "\n",
      "# delfi and alejo are the objects or instances of the class Person\n",
      "\n",
      "\n"
     ],
     "language": "python",
     "metadata": {},
     "outputs": [
      {
       "output_type": "stream",
       "stream": "stdout",
       "text": [
        "<__main__.Person instance at 0x105fc1d40>\n",
        "<__main__.Person instance at 0x106107878>\n"
       ]
      }
     ],
     "prompt_number": 8
    },
    {
     "cell_type": "code",
     "collapsed": false,
     "input": [
      "# A class with attributes\n",
      "\n",
      "class Person:\n",
      "    name = \"Anonymous\" # Default value of the property name\n",
      "    age = 0\n",
      "    \n",
      "delfi  =  Person()\n",
      "delfi.name = \"Delfina\" # obj.prop  access the property *prop* of the object *obj*\n",
      "alejo = Person()\n",
      "\n",
      "\n",
      "print alejo.name\n",
      "print delfi.name\n",
      "\n",
      "# Let's create a list of objects\n",
      "people = [] \n",
      "for i in range(10):\n",
      "    p = Person()\n",
      "    p.name = \"Person %d\" % i \n",
      "    people.append(p)\n",
      "\n",
      "\n",
      "# Let's print all their names\n",
      "for p in people:  # For each person *p* in the list people\n",
      "    print p.name # print her name\n",
      "    \n",
      "# But you can still access an individual directly\n",
      "print people[0]\n",
      "\n",
      "# wrong way\n",
      "\n",
      "# name = \"Delfina\"\n",
      "# name = \"Alejandro\" # overwrites\n",
      "\n",
      "# names = {}\n",
      "# names[0] = \"Delfina\"\n",
      "# names[1] = \"Alejandro\"\n",
      "\n",
      "# ages = {}\n",
      "# ages[0] = 15\n",
      "# ages[1] = 45\n",
      "\n",
      "\n",
      "\n",
      "# The main objective is to modularize, encapsulate and delegate"
     ],
     "language": "python",
     "metadata": {},
     "outputs": [
      {
       "output_type": "stream",
       "stream": "stdout",
       "text": [
        "Anonymous\n",
        "Delfina\n",
        "Person 0\n",
        "Person 1\n",
        "Person 2\n",
        "Person 3\n",
        "Person 4\n",
        "Person 5\n",
        "Person 6\n",
        "Person 7\n",
        "Person 8\n",
        "Person 9\n",
        "<__main__.Person instance at 0x10618b128>\n"
       ]
      }
     ],
     "prompt_number": 20
    },
    {
     "cell_type": "code",
     "collapsed": false,
     "input": [
      "#Let's add some methods\n",
      "\n",
      "class Person:\n",
      "    name = \"Anonymous\" # Default value of the property name\n",
      "    age = 0\n",
      "    \n",
      "    # A method is a function that operates on the object's properties\n",
      "    def sayYourName(self): # all class methods take self as the first attribute\n",
      "        print \"My name is \" , self.name , \" and i'm \", self.age, \" years old\"\n",
      "        \n",
      "\n",
      "delfi = Person()\n",
      "delfi.name = \"Delfi\"\n",
      "delfi.age = 15\n",
      "    \n",
      "    \n",
      "delfi.sayYourName()    # method call of an object. Delfi becomes self. Person.sayYourName(delfi)\n"
     ],
     "language": "python",
     "metadata": {},
     "outputs": [
      {
       "output_type": "stream",
       "stream": "stdout",
       "text": [
        "My name is  Delfi  and i'm  15  years old\n",
        "My name is  Delfi  and i'm  15  years old\n"
       ]
      }
     ],
     "prompt_number": 26
    },
    {
     "cell_type": "markdown",
     "metadata": {},
     "source": [
      "**************\n",
      "# Homework, create a class person with a method \"birthday\" (that increases by 1 the age)"
     ]
    },
    {
     "cell_type": "code",
     "collapsed": false,
     "input": [
      "\n",
      "Class Person:\n",
      "    def __init__(self, name): # Constructor. a method that all objects will call when being created\n",
      "        self.name = name  # Assign the parameter (name) to the attribute (self.name)\n",
      "        # Self it's a reference to the current instance"
     ],
     "language": "python",
     "metadata": {},
     "outputs": []
    },
    {
     "cell_type": "markdown",
     "metadata": {},
     "source": [
      "\n",
      "\n",
      "\n",
      "\n",
      "\n",
      "# Data Structures\n",
      "\n",
      "Different ways of storing data for coding. Typical of classic programming.\n",
      "\n",
      "1. Lists\n",
      "1.1 Singled linked lists\n",
      "\n",
      "\n",
      "Node 1 -> Node 2 -> Node 3 -> EOL"
     ]
    }
   ],
   "metadata": {}
  }
 ]
}